{
 "cells": [
  {
   "cell_type": "markdown",
   "metadata": {},
   "source": [
    "#### 1. Imprime \"Hola, mundo\"\n",
    "print( tu código aquí )\n",
    "\n",
    "#### 2. Imprime \"Hola, Valeria\" con el nombre en una variable\n",
    "nombre = \"Valeria\"\n",
    "print( tu código aquí ) # con una coma\n",
    "print( tu código aquí ) # con un +\n",
    "\n",
    "#### 3. Imprimir \"Hola 156!\" con el número en una variable\n",
    "numero = 156\n",
    "print( tu código aquí ) # con una coma\n",
    "print( tu código aquí ) # con un + -- este debería arrojar un error!, corrígelo con conversión\n",
    "\n",
    "#### 4. Imprimir \"Me encanta comer tacos y arepas\" con las comidas en variables\n",
    "comida1 = \"tacos\"\n",
    "comida2 = \"arepas\"\n",
    "print( tu código aquí ) # con .format()\n",
    "print( tu código aquí ) # con una cadena f"
   ]
  },
  {
   "cell_type": "markdown",
   "metadata": {},
   "source": [
    "# ------------------------------------------------"
   ]
  },
  {
   "cell_type": "markdown",
   "metadata": {},
   "source": [
    "### 1. Imprime \"Hola, mundo\""
   ]
  },
  {
   "cell_type": "code",
   "execution_count": 32,
   "metadata": {},
   "outputs": [
    {
     "name": "stdout",
     "output_type": "stream",
     "text": [
      "Hola, mundo\n"
     ]
    }
   ],
   "source": [
    "print(\"Hola, mundo\")"
   ]
  },
  {
   "cell_type": "markdown",
   "metadata": {},
   "source": [
    "### 2. Imprime \"Hola, Valeria\" con el nombre en una variable"
   ]
  },
  {
   "cell_type": "code",
   "execution_count": 33,
   "metadata": {},
   "outputs": [
    {
     "name": "stdout",
     "output_type": "stream",
     "text": [
      "Hola, Valeria\n",
      "Hola, Valeria\n"
     ]
    }
   ],
   "source": [
    "# 2. Imprime \"Hola, Valeria\" con el nombre en una variable\n",
    "nombre = \"Valeria\"\n",
    "print( \"Hola,\", nombre ) # con una coma\n",
    "print( \"Hola, \"+ nombre ) # con una coma"
   ]
  },
  {
   "cell_type": "markdown",
   "metadata": {},
   "source": [
    "### 3. Imprimir \"Hola 156!\" con el número en una variable"
   ]
  },
  {
   "cell_type": "code",
   "execution_count": 34,
   "metadata": {},
   "outputs": [
    {
     "name": "stdout",
     "output_type": "stream",
     "text": [
      "Hola, 156\n",
      "Hola, 156\n"
     ]
    }
   ],
   "source": [
    "### 3. Imprimir \"Hola 156!\" con el número en una variable\n",
    "numero = 156\n",
    "print(\"Hola,\",str(numero) ) # con una coma # con una coma\n",
    "print(\"Hola, \"+ str(numero)) # con un + -- este debería arrojar un error!, corrígelo con conversión"
   ]
  },
  {
   "cell_type": "markdown",
   "metadata": {},
   "source": [
    "### 4. Imprimir \"Me encanta comer tacos y arepas\" con las comidas en variables"
   ]
  },
  {
   "cell_type": "code",
   "execution_count": 35,
   "metadata": {},
   "outputs": [
    {
     "name": "stdout",
     "output_type": "stream",
     "text": [
      "Me encanta comer tacos y arepas\n",
      "Me encanta comer tacos y arepas\n"
     ]
    }
   ],
   "source": [
    "### 4. Imprimir \"Me encanta comer tacos y arepas\" con las comidas en variables\n",
    "comida1 = \"tacos\"\n",
    "comida2 = \"arepas\" #(\"Mi nombre es {} y tengo {} años de edad.\".format(nombre, edad))\n",
    "print(\"Me encanta comer {} y {}\".format(comida1, comida2)), # con .format()\n",
    "print( \"Me encanta comer %s y %s\" % (comida1, comida2) ) # con una cadena f"
   ]
  },
  {
   "cell_type": "markdown",
   "metadata": {},
   "source": [
    "#### ¿Qué es un dict?\n",
    "En Python, un diccionario (tipo dict) es una estructura de datos que almacena pares de clave-valor. Es una colección mutable y desordenada de elementos donde cada clave debe ser única. Los diccionarios permiten acceder a los valores mediante sus claves en lugar de índices, lo que los hace muy útiles cuando necesitas asociar datos relacionados de forma eficiente.\n",
    "\n",
    "#### Características de los diccionarios:\n",
    "* Claves únicas: Cada clave dentro de un diccionario debe ser única.\n",
    "* Mutables: Puedes modificar, agregar o eliminar pares de claves y valores después de que se ha creado el diccionario.\n",
    "* No ordenados (aunque desde Python 3.7 mantienen el orden de inserción).\n",
    "* Claves pueden ser de cualquier tipo inmutable, como cadenas, números o tuplas.\n",
    "* Valores pueden ser de cualquier tipo, incluso otros diccionarios, listas, etc.\n",
    "* Sintaxis de un diccionario:\n",
    "* Los diccionarios se definen usando llaves {} y los pares clave-valor se separan por dos puntos :."
   ]
  },
  {
   "cell_type": "markdown",
   "metadata": {},
   "source": [
    "* len(diccionario) : regresa el tamaño de un diccionario . \n",
    "* str(diccionario): crea una representación de cadena (imprimible) de un diccionario. \n",
    "* type(diccionario) : regresa el tipo de la variable. Si la variable es un diccionario, devolverá un tipo de dict. \n",
    "* Veamos también algunos métodos de los diccionarios. La sintaxis puede ser dict.method(tu_diccionario) o tu_diccionario.method(), donde method es el método a utilizar.\n",
    "\n",
    "* .clear(): elimina todos los elementos del diccionario \n",
    "* .copy() : regresa una copia del diccionario\n",
    "*.get(clave, default=None): regresa el valor establecido para una clave o None si la clave no se encuentra en el diccionario. \n",
    "* .has_key(clave) : regresa verdadero (True) si la clave proporcionada está disponible en el diccionario; de lo contrario, devuelve False. \n",
    "* .items(): regresa una lista de pares de tuplas (clave, valor) del diccionario. \n",
    "* .keys(): regresa una lista de claves de diccionario. \n",
    "* .update(pares_actualizar): agrega y actualiza los pares clave-valor del diccionario enviado al diccionario existente. \n",
    "* .values(): regresa una lista de valores del diccionario."
   ]
  },
  {
   "cell_type": "code",
   "execution_count": 36,
   "metadata": {},
   "outputs": [
    {
     "name": "stdout",
     "output_type": "stream",
     "text": [
      "nombre : Carlos\n",
      "edad : 21\n",
      "cursos : ['Matemáticas', 'Física', 'Inglés', 'Programación']\n"
     ]
    }
   ],
   "source": [
    "estudiante = {\n",
    "    \"nombre\": \"Carlos\",\n",
    "    \"edad\": 21,\n",
    "    \"cursos\": [\"Matemáticas\", \"Física\", \"Inglés\"]\n",
    "}\n",
    "\n",
    "# Agregar un nuevo curso\n",
    "estudiante[\"cursos\"].append(\"Programación\")\n",
    "\n",
    "# Mostrar la información del estudiante\n",
    "for clave, valor in estudiante.items():\n",
    "    print(clave, \":\", valor)"
   ]
  }
 ],
 "metadata": {
  "kernelspec": {
   "display_name": "Python 3",
   "language": "python",
   "name": "python3"
  },
  "language_info": {
   "codemirror_mode": {
    "name": "ipython",
    "version": 3
   },
   "file_extension": ".py",
   "mimetype": "text/x-python",
   "name": "python",
   "nbconvert_exporter": "python",
   "pygments_lexer": "ipython3",
   "version": "3.12.6"
  }
 },
 "nbformat": 4,
 "nbformat_minor": 2
}
